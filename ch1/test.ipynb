{
 "cells": [
  {
   "cell_type": "code",
   "execution_count": 4,
   "id": "31141eba",
   "metadata": {},
   "outputs": [],
   "source": [
    "import torch\n",
    "\n",
    "\n",
    "def time_elapsed_pytorch(func, inp):\n",
    "    start = torch.cuda.Event(enable_timing=True)\n",
    "    end = torch.cuda.Event(enable_timing=True)\n",
    "\n",
    "    for _ in range(5):\n",
    "        func(inp)\n",
    "    start.record()\n",
    "    func(inp)\n",
    "    end.record()\n",
    "    torch.cuda.synchronize()\n",
    "    return start.elapsed_time(end)"
   ]
  },
  {
   "cell_type": "code",
   "execution_count": 5,
   "id": "b8275001",
   "metadata": {},
   "outputs": [],
   "source": [
    "b = torch.randn(10000, 10000).cuda()"
   ]
  },
  {
   "cell_type": "code",
   "execution_count": 6,
   "id": "1febda3b",
   "metadata": {},
   "outputs": [],
   "source": [
    "def square_2(n):\n",
    "    return n * n\n",
    "\n",
    "\n",
    "def power_2(n):\n",
    "    return n**2"
   ]
  },
  {
   "cell_type": "code",
   "execution_count": 7,
   "id": "d3a7787b",
   "metadata": {},
   "outputs": [
    {
     "data": {
      "text/plain": [
       "4.676671981811523"
      ]
     },
     "execution_count": 7,
     "metadata": {},
     "output_type": "execute_result"
    }
   ],
   "source": [
    "time_elapsed_pytorch(torch.square, b)\n",
    "time_elapsed_pytorch(square_2, b)\n",
    "time_elapsed_pytorch(power_2, b)"
   ]
  },
  {
   "cell_type": "code",
   "execution_count": 8,
   "id": "00db0780",
   "metadata": {},
   "outputs": [
    {
     "name": "stdout",
     "output_type": "stream",
     "text": [
      "=============\n",
      "Profiling torch.square\n",
      "=============\n",
      "=============\n",
      "Profiling square_2(n*n)\n",
      "=============\n",
      "=============\n",
      "Profiling power_2(n**2)\n",
      "=============\n"
     ]
    },
    {
     "name": "stderr",
     "output_type": "stream",
     "text": [
      "/home/harish/.local/lib/python3.10/site-packages/torch/autograd/profiler.py:262: UserWarning: The True is not a valid device option.\n",
      "  warn(f\"The {self.use_device} is not a valid device option.\")\n"
     ]
    },
    {
     "data": {
      "text/plain": [
       "'---------------------  ------------  ------------  ------------  ------------  ------------  ------------  \\n                 Name    Self CPU %      Self CPU   CPU total %     CPU total  CPU time avg    # of Calls  \\n---------------------  ------------  ------------  ------------  ------------  ------------  ------------  \\n            aten::pow        93.33%     428.935us       100.00%     459.588us     459.588us             1  \\n    aten::result_type         0.52%       2.396us         0.52%       2.396us       2.396us             1  \\n             aten::to         0.20%       0.908us         0.20%       0.908us       0.908us             1  \\n     cudaLaunchKernel         5.95%      27.349us         5.95%      27.349us      27.349us             1  \\n---------------------  ------------  ------------  ------------  ------------  ------------  ------------  \\nSelf CPU time total: 459.588us\\n'"
      ]
     },
     "execution_count": 8,
     "metadata": {},
     "output_type": "execute_result"
    }
   ],
   "source": [
    "print(\"=============\")\n",
    "print(\"Profiling torch.square\")\n",
    "print(\"=============\")\n",
    "\n",
    "with torch.autograd.profiler.profile(use_device=True) as prof:\n",
    "    torch.square(b)\n",
    "\n",
    "prof.key_averages().table(sort_by=\"cuda_time_total\", row_limit=10)\n",
    "\n",
    "print(\"=============\")\n",
    "print(\"Profiling square_2(n*n)\")\n",
    "print(\"=============\")\n",
    "\n",
    "with torch.autograd.profiler.profile(use_device=True) as prof:\n",
    "    square_2(b)\n",
    "\n",
    "prof.key_averages().table(sort_by=\"cuda_time_total\", row_limit=10)\n",
    "\n",
    "print(\"=============\")\n",
    "print(\"Profiling power_2(n**2)\")\n",
    "print(\"=============\")\n",
    "\n",
    "with torch.autograd.profiler.profile(use_device=True) as prof:\n",
    "    power_2(b)\n",
    "\n",
    "prof.key_averages().table(sort_by=\"cuda_time_total\", row_limit=10)"
   ]
  },
  {
   "cell_type": "markdown",
   "id": "40eebdb0",
   "metadata": {},
   "source": []
  },
  {
   "cell_type": "code",
   "execution_count": 12,
   "id": "9930a1e8",
   "metadata": {},
   "outputs": [
    {
     "data": {
      "text/plain": [
       "(True, True)"
      ]
     },
     "execution_count": 12,
     "metadata": {},
     "output_type": "execute_result"
    }
   ],
   "source": [
    "import torch\n",
    "\n",
    "torch.cuda.is_available(), torch.cuda.is_initialized()"
   ]
  },
  {
   "cell_type": "code",
   "execution_count": null,
   "id": "97983109",
   "metadata": {},
   "outputs": [],
   "source": []
  }
 ],
 "metadata": {
  "kernelspec": {
   "display_name": "Python 3",
   "language": "python",
   "name": "python3"
  },
  "language_info": {
   "codemirror_mode": {
    "name": "ipython",
    "version": 3
   },
   "file_extension": ".py",
   "mimetype": "text/x-python",
   "name": "python",
   "nbconvert_exporter": "python",
   "pygments_lexer": "ipython3",
   "version": "3.10.12"
  }
 },
 "nbformat": 4,
 "nbformat_minor": 5
}

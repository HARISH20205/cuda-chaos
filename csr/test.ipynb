{
 "cells": [
  {
   "cell_type": "code",
   "execution_count": 49,
   "id": "33e82315",
   "metadata": {},
   "outputs": [
    {
     "name": "stdout",
     "output_type": "stream",
     "text": [
      "[[5, 0, 0, 0, 0, 0, 0, 8], [0, 12, 0, 0, 0, 0, 14, 0], [0, 0, 23, 0, 0, 25, 0, 0], [0, 0, 0, 34, 36, 0, 0, 0], [0, 0, 0, 0, 45, 0, 0, 48], [0, 0, 0, 0, 0, 56, 0, 0], [0, 0, 67, 0, 0, 0, 70, 0], [71, 0, 0, 0, 0, 0, 0, 78]]\n",
      "[0, 2, 4, 6, 8, 10, 11, 13, 15]\n",
      "[0, 7, 1, 6, 2, 5, 3, 4, 4, 7, 5, 2, 6, 0, 7]\n",
      "[5, 8, 12, 14, 23, 25, 34, 36, 45, 48, 56, 67, 70, 71, 78]\n",
      "[[5, 0, 0, 0, 0, 0, 0, 8], [0, 12, 0, 0, 0, 0, 14, 0], [0, 0, 23, 0, 0, 25, 0, 0], [0, 0, 0, 34, 36, 0, 0, 0], [0, 0, 0, 0, 45, 0, 0, 48], [0, 0, 0, 0, 0, 56, 0, 0], [0, 0, 67, 0, 0, 0, 70, 0], [71, 0, 0, 0, 0, 0, 0, 78]]\n",
      "True\n"
     ]
    }
   ],
   "source": [
    "mat = [\n",
    "    [5, 0, 0, 0, 0, 0, 0, 8],\n",
    "    [0, 12, 0, 0, 0, 0, 14, 0],\n",
    "    [0, 0, 23, 0, 0, 25, 0, 0],\n",
    "    [0, 0, 0, 34, 36, 0, 0, 0],\n",
    "    [0, 0, 0, 0, 45, 0, 0, 48],\n",
    "    [0, 0, 0, 0, 0, 56, 0, 0],\n",
    "    [0, 0, 67, 0, 0, 0, 70, 0],\n",
    "    [71, 0, 0, 0, 0, 0, 0, 78],\n",
    "]\n",
    "\n",
    "\n",
    "def encode(mat):\n",
    "    m = len(mat)\n",
    "    n = len(mat[0])\n",
    "    row = [0]\n",
    "    col = []\n",
    "    val = []\n",
    "    c = 0\n",
    "    for x in range(m):\n",
    "        for y in range(n):\n",
    "            if mat[x][y] != 0:\n",
    "                val.append(mat[x][y])\n",
    "                col.append(y)\n",
    "                c += 1\n",
    "        row.append(c)\n",
    "\n",
    "    print(row)\n",
    "    print(col)\n",
    "    print(val)\n",
    "\n",
    "    return row, col, val\n",
    "\n",
    "\n",
    "print(mat)\n",
    "row, col, val = encode(mat)\n",
    "\n",
    "\n",
    "def decode(row, col, val):\n",
    "\n",
    "    m = len(row) - 1\n",
    "    n = max(col) + 1\n",
    "    mat = [[0] * n for _ in range(m)]\n",
    "\n",
    "    for i in range(m):\n",
    "        start = row[i]\n",
    "        end = row[i + 1]\n",
    "        for j in range(start, end):\n",
    "            mat[i][col[j]] = val[j]\n",
    "\n",
    "    return mat\n",
    "\n",
    "\n",
    "# def decode(row, col, val):\n",
    "#     n = len(row)\n",
    "\n",
    "#     mat = []\n",
    "#     c, v = 0, 0\n",
    "#     for x in range(1, n):\n",
    "#         l = row[x] - row[x - 1]\n",
    "#         idx = col[row[x - 1] : row[x]]\n",
    "#         t = []\n",
    "#         for y in range(row[0]):\n",
    "#             if y in idx:\n",
    "#                 t.append(val[c])\n",
    "#                 c += 1\n",
    "#             else:\n",
    "#                 t.append(0)\n",
    "#         mat.append(t)\n",
    "#     print(mat)\n",
    "#     return mat\n",
    "\n",
    "\n",
    "mat1 = decode(row, col, val)\n",
    "print(mat1)\n",
    "print(mat == mat1)"
   ]
  },
  {
   "cell_type": "code",
   "execution_count": 42,
   "id": "0c938251",
   "metadata": {},
   "outputs": [
    {
     "data": {
      "text/plain": [
       "[(10, 0, 0, 0),\n",
       " (20, 30, 0, 0),\n",
       " (0, 0, 50, 0),\n",
       " (0, 40, 60, 0),\n",
       " (0, 0, 70, 0),\n",
       " (0, 0, 0, 80)]"
      ]
     },
     "execution_count": 42,
     "metadata": {},
     "output_type": "execute_result"
    }
   ],
   "source": [
    "mat = [\n",
    "    [10, 20, 0, 0, 0, 0],\n",
    "    [0, 30, 0, 40, 0, 0],\n",
    "    [0, 0, 50, 60, 70, 0],\n",
    "    [0, 0, 0, 0, 0, 80],\n",
    "]\n",
    "\n",
    "list(zip(*mat))"
   ]
  },
  {
   "cell_type": "code",
   "execution_count": null,
   "id": "7f034528",
   "metadata": {},
   "outputs": [],
   "source": []
  },
  {
   "cell_type": "code",
   "execution_count": null,
   "id": "47aa0191",
   "metadata": {},
   "outputs": [],
   "source": []
  }
 ],
 "metadata": {
  "kernelspec": {
   "display_name": "Python 3",
   "language": "python",
   "name": "python3"
  },
  "language_info": {
   "codemirror_mode": {
    "name": "ipython",
    "version": 3
   },
   "file_extension": ".py",
   "mimetype": "text/x-python",
   "name": "python",
   "nbconvert_exporter": "python",
   "pygments_lexer": "ipython3",
   "version": "3.10.12"
  }
 },
 "nbformat": 4,
 "nbformat_minor": 5
}
